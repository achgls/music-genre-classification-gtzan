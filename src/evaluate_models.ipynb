{
 "cells": [
  {
   "attachments": {},
   "cell_type": "markdown",
   "metadata": {},
   "source": [
    "The goal of this notebook is to compare the different models obtained via our CNN method, and compare them to the baseline methods."
   ]
  },
  {
   "attachments": {},
   "cell_type": "markdown",
   "metadata": {},
   "source": [
    "-> Retry to do PCA and t-SNE with the embedding space derived from the CNNs. See if it inherently has a better discriminative power."
   ]
  }
 ],
 "metadata": {
  "kernelspec": {
   "display_name": "NAML",
   "language": "python",
   "name": "python3"
  },
  "language_info": {
   "name": "python",
   "version": "3.9.13"
  },
  "orig_nbformat": 4,
  "vscode": {
   "interpreter": {
    "hash": "4dcf0feba9779ca3a67ecd85ea7c5955efb41798f88d0e943b148aee3967434f"
   }
  }
 },
 "nbformat": 4,
 "nbformat_minor": 2
}
