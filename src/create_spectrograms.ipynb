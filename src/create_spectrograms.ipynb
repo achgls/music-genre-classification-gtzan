{
 "cells": [
  {
   "attachments": {},
   "cell_type": "markdown",
   "metadata": {},
   "source": [
    "When it comes to building the data pipeline for dealing with spectrograms, we have 2 options:\n",
    "- Build a dynamic data pipeline in which flows the `.wav` files, which spectrograms are computed \"on-the-go\". This method allows to process the most raw version of the spectrogram, making sure that no loss of information is allowed to take place. However, a naive version of this would store the spectrograms in the RAM for the whole training dataset, which could easily trigger `OutOfMemory` issues, or in the best case leads to drastically slower computational availability. This issue happened in our early experiments when we first tried to implement this kind of data pipeline. However, the `tf.data` module is very extensive and provides ways to operate around this issue, namely with the `TFRecords` class, that temporary store dataset on disk in a way that they be easily retrieved and streamed from. We did not look yet into it because the `tf.data` module is a whole topic on its own and is not necessarily the aim of this project. Instead we would rather go for the second option:\n",
    "- Store the pre-computed spectrograms on disk, as images, and simply flow the image data from disk. The problem with this method is that by saving and retrieving images, on and from disk, we are subject to compression error. Moreover, the spectrograms originally in the provided Kaggle dataset were bad in the sense that they had white border around them, were compressed and were in RGB format whereas the spectrogram should be a mono-channel image, for storage and processing purposes. However, my experiments in [this notebook](url) have led me to conclude that we could store the spectrograms as `.png` files with no loss due to compression (however, there is loss due to rounding for casting to `int8` type).\n",
    "\n",
    "Consequently, this notebook simply shows the process used to compute the spectrograms and save them on disk as `.png` images."
   ]
  },
  {
   "attachments": {},
   "cell_type": "markdown",
   "metadata": {},
   "source": [
    "# Imports"
   ]
  },
  {
   "cell_type": "code",
   "execution_count": 1,
   "metadata": {},
   "outputs": [],
   "source": [
    "import os\n",
    "import glob\n",
    "\n",
    "from PIL import Image\n",
    "\n",
    "from scipy import signal\n",
    "from scipy.io import wavfile\n",
    "import numpy as np\n",
    "\n",
    "from tqdm.notebook import tqdm"
   ]
  },
  {
   "attachments": {},
   "cell_type": "markdown",
   "metadata": {},
   "source": [
    "# Setup"
   ]
  },
  {
   "cell_type": "code",
   "execution_count": 2,
   "metadata": {},
   "outputs": [],
   "source": [
    "# STFT parameters\n",
    "nfft = 1024\n",
    "noverlap = 512\n",
    "\n",
    "img_format = \"png\"\n",
    "png_compression_level = 9\n",
    "\n",
    "image_dir = \"../res/spectrograms/\""
   ]
  },
  {
   "attachments": {},
   "cell_type": "markdown",
   "metadata": {},
   "source": [
    "Make directories for the spectrograms, akin to the structure of the original dataset:"
   ]
  },
  {
   "cell_type": "code",
   "execution_count": 5,
   "metadata": {},
   "outputs": [
    {
     "name": "stdout",
     "output_type": "stream",
     "text": [
      "FileExistsError\n",
      "FileExistsError\n",
      "FileExistsError\n",
      "FileExistsError\n",
      "FileExistsError\n",
      "FileExistsError\n",
      "FileExistsError\n",
      "FileExistsError\n",
      "FileExistsError\n",
      "FileExistsError\n"
     ]
    }
   ],
   "source": [
    "for genre in os.listdir(\"../res/gtzan_wav/data/\"):\n",
    "    try:\n",
    "        os.makedirs(image_dir + genre)\n",
    "    except Exception as err:\n",
    "        print(err.__class__.__name__)"
   ]
  },
  {
   "attachments": {},
   "cell_type": "markdown",
   "metadata": {},
   "source": [
    "# Define functions"
   ]
  },
  {
   "cell_type": "code",
   "execution_count": 6,
   "metadata": {},
   "outputs": [],
   "source": [
    "def pad_or_slice(waveform, length):\n",
    "    if len(waveform) > length:\n",
    "        return waveform[:length]\n",
    "    elif len(waveform) < length:\n",
    "        return np.concatenate((waveform, waveform[len(waveform) - length - 1: -1][::-1]))\n",
    "    else:\n",
    "        return waveform\n",
    "\n",
    "def get_int8_spectrogram(filename, nperseg, noverlap):\n",
    "    # Load the audio file\n",
    "    rate, data = wavfile.read(filename)\n",
    "    data = pad_or_slice(data, 30 * rate)\n",
    "\n",
    "    # Compute the spectrogram\n",
    "    Sxx = signal.spectrogram(data, rate, nperseg=nperseg, noverlap=noverlap)[2]\n",
    "    Sxx = np.log1p(Sxx)\n",
    "    Sxx = np.round(Sxx / np.max(Sxx) * 255).astype(np.uint8)\n",
    "\n",
    "    return Sxx"
   ]
  },
  {
   "attachments": {},
   "cell_type": "markdown",
   "metadata": {},
   "source": [
    "# Loop over all files"
   ]
  },
  {
   "cell_type": "code",
   "execution_count": 15,
   "metadata": {},
   "outputs": [
    {
     "data": {
      "application/vnd.jupyter.widget-view+json": {
       "model_id": "05158f4c9a2148ec9c41f871c118bcad",
       "version_major": 2,
       "version_minor": 0
      },
      "text/plain": [
       "  0%|          | 0/1000 [00:00<?, ?it/s]"
      ]
     },
     "metadata": {},
     "output_type": "display_data"
    },
    {
     "name": "stdout",
     "output_type": "stream",
     "text": [
      "rock rock.00099.png.pngng.png\r"
     ]
    }
   ],
   "source": [
    "files = glob.glob(\"../res/gtzan_wav/data/*/*.wav\")\n",
    "\n",
    "for file in tqdm(files):\n",
    "    genre, name = file.replace('\\\\', '/').split('/')[-2:]\n",
    "    name = '.'.join(name.split('.')[:-1] + [img_format])\n",
    "\n",
    "    print(genre, name, end='\\r')\n",
    "\n",
    "    spec = get_int8_spectrogram(file, nperseg=nfft, noverlap=noverlap)\n",
    "\n",
    "    img = Image.fromarray(spec)\n",
    "    img.save(os.path.join(image_dir, genre, name), format=img_format, compression_level=png_compression_level)"
   ]
  }
 ],
 "metadata": {
  "kernelspec": {
   "display_name": "NAML",
   "language": "python",
   "name": "python3"
  },
  "language_info": {
   "codemirror_mode": {
    "name": "ipython",
    "version": 3
   },
   "file_extension": ".py",
   "mimetype": "text/x-python",
   "name": "python",
   "nbconvert_exporter": "python",
   "pygments_lexer": "ipython3",
   "version": "3.9.13"
  },
  "orig_nbformat": 4,
  "vscode": {
   "interpreter": {
    "hash": "4dcf0feba9779ca3a67ecd85ea7c5955efb41798f88d0e943b148aee3967434f"
   }
  }
 },
 "nbformat": 4,
 "nbformat_minor": 2
}
