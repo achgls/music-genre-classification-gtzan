{
 "cells": [
  {
   "attachments": {},
   "cell_type": "markdown",
   "metadata": {},
   "source": [
    "The goal of this notebook is implement simple classifiers based on the hand-crafted features already present in the dataset, as baselines for genre classification performance. Our goal in this project is to build a deep neural network, specifically CNN with SE blocks, to learn features which values for classification would outperform those of the traditional features.\n",
    "\n",
    "Refer to `exploratory_data_analysis.ipynb` for an analysis of the hand-crafted features as well as a visualization of the dataset in the feature space derived from them."
   ]
  },
  {
   "attachments": {},
   "cell_type": "markdown",
   "metadata": {},
   "source": [
    "One thing good to note: we might implement the same classifiers on the features learned by our deep neural network as we do here on the hand-crafted features. They will work just the same on deep-learned features as they do on the traditional ones."
   ]
  },
  {
   "attachments": {},
   "cell_type": "markdown",
   "metadata": {},
   "source": [
    "## SVM (Support Vector Machine)"
   ]
  },
  {
   "attachments": {},
   "cell_type": "markdown",
   "metadata": {},
   "source": [
    "## Gaussian Mixtures"
   ]
  },
  {
   "attachments": {},
   "cell_type": "markdown",
   "metadata": {},
   "source": [
    "## FFNN (Feed-Forward Neural Network) or MLP"
   ]
  },
  {
   "attachments": {},
   "cell_type": "markdown",
   "metadata": {},
   "source": [
    "## XGBoost with decision trees"
   ]
  },
  {
   "cell_type": "markdown",
   "metadata": {},
   "source": []
  }
 ],
 "metadata": {
  "kernelspec": {
   "display_name": "NAML",
   "language": "python",
   "name": "python3"
  },
  "language_info": {
   "name": "python",
   "version": "3.9.13"
  },
  "orig_nbformat": 4,
  "vscode": {
   "interpreter": {
    "hash": "4dcf0feba9779ca3a67ecd85ea7c5955efb41798f88d0e943b148aee3967434f"
   }
  }
 },
 "nbformat": 4,
 "nbformat_minor": 2
}
